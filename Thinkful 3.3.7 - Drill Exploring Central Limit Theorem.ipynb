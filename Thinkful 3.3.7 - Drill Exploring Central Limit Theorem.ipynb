{
 "cells": [
  {
   "cell_type": "code",
   "execution_count": 1,
   "metadata": {},
   "outputs": [],
   "source": [
    "import numpy as np\n",
    "import pandas as pd\n",
    "import scipy\n",
    "import matplotlib.pyplot as plt\n",
    "from scipy.stats import ttest_ind\n",
    "from decimal import Decimal\n",
    "%matplotlib inline"
   ]
  },
  {
   "cell_type": "code",
   "execution_count": 2,
   "metadata": {},
   "outputs": [
    {
     "data": {
      "image/png": "[encoded data removed]",
      "text/plain": [
       "<Figure size 432x288 with 1 Axes>"
      ]
     },
     "metadata": {},
     "output_type": "display_data"
    },
    {
     "name": "stdout",
     "output_type": "stream",
     "text": [
      "pop1 mean:  1.9999 \tSample1 SD:  1.2780062558532332\n",
      "pop2 mean:  4.9873 \tSample2 SD:  1.5827629986829994\n"
     ]
    }
   ],
   "source": [
    "pop1 = np.random.binomial(10, 0.2, 10000)\n",
    "pop2 = np.random.binomial(10,0.5, 10000) \n",
    "\n",
    "# Let’s make histograms for the two groups. \n",
    "\n",
    "plt.hist(pop1, alpha=0.5, label='Population 1') \n",
    "plt.hist(pop2, alpha=0.5, label='Population 2') \n",
    "plt.legend(loc='upper right') \n",
    "plt.show()\n",
    "\n",
    "print('pop1 mean: ', np.mean(pop1), '\\tSample1 SD: ', np.std(pop1))\n",
    "print('pop2 mean: ', np.mean(pop2), '\\tSample2 SD: ', np.std(pop2))"
   ]
  },
  {
   "cell_type": "code",
   "execution_count": 3,
   "metadata": {},
   "outputs": [
    {
     "data": {
      "image/png": "[encoded data removed]",
      "text/plain": [
       "<Figure size 432x288 with 1 Axes>"
      ]
     },
     "metadata": {},
     "output_type": "display_data"
    },
    {
     "name": "stdout",
     "output_type": "stream",
     "text": [
      "Sample1 mean:  1.99 \tSample1 SD:  1.2672646116575639\n",
      "Sample2 mean:  4.66 \tSample2 SD:  1.5190374411036576\n"
     ]
    }
   ],
   "source": [
    "sample1 = np.random.choice(pop1, 100, replace=True)\n",
    "sample2 = np.random.choice(pop2, 100, replace=True)\n",
    "\n",
    "plt.hist(sample1, alpha=0.5, label='sample 1') \n",
    "plt.hist(sample2, alpha=0.5, label='sample 2') \n",
    "plt.legend(loc='upper right') \n",
    "plt.show()\n",
    "\n",
    "print('Sample1 mean: ', np.mean(sample1), '\\tSample1 SD: ', np.std(sample1, ddof=1))\n",
    "print('Sample2 mean: ', np.mean(sample2), '\\tSample2 SD: ', np.std(sample2, ddof=1))"
   ]
  },
  {
   "cell_type": "markdown",
   "metadata": {},
   "source": [
    "### 1. Increase the size of your samples from 100 to 1000, then calculate the means and standard deviations for your new samples and create histograms for each. Repeat this again, decreasing the size of your samples to 20. What values change, and what remain the same?"
   ]
  },
  {
   "cell_type": "markdown",
   "metadata": {},
   "source": [
    "#### My pre-coding response: If I increase the sample size from 100 to 1000 this will yield samples that more closely resemble the original population with tighter standard deviations and a more accurate standard error.  If I decrease my sample size to 20 the potential for my sample to be taken from extreme values increases and standard deviation will likely be greater and standard error between the samples less accurate."
   ]
  },
  {
   "cell_type": "code",
   "execution_count": 4,
   "metadata": {},
   "outputs": [
    {
     "data": {
      "image/png": "[encoded data removed]",
      "text/plain": [
       "<Figure size 432x288 with 1 Axes>"
      ]
     },
     "metadata": {},
     "output_type": "display_data"
    },
    {
     "name": "stdout",
     "output_type": "stream",
     "text": [
      "Sample1b mean:  1.993 \tSample1b SD:  1.210957231869655\n",
      "Sample2b mean:  4.948 \tSample2b SD:  1.5772709925005863\n"
     ]
    }
   ],
   "source": [
    "sample1b = np.random.choice(pop1, 1000, replace=True)\n",
    "sample2b = np.random.choice(pop2, 1000, replace=True)\n",
    "\n",
    "plt.hist(sample1b, alpha=0.5, label='sample 1') \n",
    "plt.hist(sample2b, alpha=0.5, label='sample 2') \n",
    "plt.legend(loc='upper right') \n",
    "plt.show()\n",
    "\n",
    "print('Sample1b mean: ', np.mean(sample1b), '\\tSample1b SD: ', np.std(sample1b, ddof=1))\n",
    "print('Sample2b mean: ', np.mean(sample2b), '\\tSample2b SD: ', np.std(sample2b, ddof=1))"
   ]
  },
  {
   "cell_type": "code",
   "execution_count": 5,
   "metadata": {},
   "outputs": [
    {
     "data": {
      "image/png": "[encoded data removed]",
      "text/plain": [
       "<Figure size 432x288 with 1 Axes>"
      ]
     },
     "metadata": {},
     "output_type": "display_data"
    },
    {
     "name": "stdout",
     "output_type": "stream",
     "text": [
      "Sample1c mean:  2.1 \tSample1b SD:  1.2523661815266247\n",
      "Sample2c mean:  5.15 \tSample2b SD:  1.3088765773505315\n"
     ]
    }
   ],
   "source": [
    "sample1c = np.random.choice(pop1, 20, replace=True)\n",
    "sample2c = np.random.choice(pop2, 20, replace=True)\n",
    "\n",
    "plt.hist(sample1c, alpha=0.5, label='sample 1') \n",
    "plt.hist(sample2c, alpha=0.5, label='sample 2') \n",
    "plt.legend(loc='upper right') \n",
    "plt.show()\n",
    "\n",
    "print('Sample1c mean: ', np.mean(sample1c), '\\tSample1b SD: ', np.std(sample1c, ddof=1))\n",
    "print('Sample2c mean: ', np.mean(sample2c), '\\tSample2b SD: ', np.std(sample2c, ddof=1))"
   ]
  },
  {
   "cell_type": "code",
   "execution_count": 6,
   "metadata": {},
   "outputs": [
    {
     "name": "stdout",
     "output_type": "stream",
     "text": [
      "pop1 mean: \t 2.0 \tSample1 SD: \t 1.3\n",
      "pop2 mean: \t 5.0 \tSample2 SD: \t 1.6\n",
      "Sample1 mean: \t 2.0 \tSample1 SD: \t 1.3\n",
      "Sample2 mean: \t 4.7 \tSample2 SD: \t 1.5\n",
      "Sample1b mean: \t 2.0 \tSample1b SD: \t 1.2\n",
      "Sample2b mean: \t 4.9 \tSample2b SD: \t 1.6\n",
      "Sample1c mean: \t 2.1 \tSample1b SD: \t 1.3\n",
      "Sample2c mean: \t 5.2 \tSample2b SD: \t 1.3\n"
     ]
    }
   ],
   "source": [
    "print('pop1 mean: \\t', round(np.mean(pop1),1), '\\tSample1 SD: \\t', round(np.std(pop1),1))\n",
    "print('pop2 mean: \\t', round(np.mean(pop2),1), '\\tSample2 SD: \\t', round(np.std(pop2),1))\n",
    "\n",
    "print('Sample1 mean: \\t', round(np.mean(sample1),1), '\\tSample1 SD: \\t', round(np.std(sample1, ddof=1),1))\n",
    "print('Sample2 mean: \\t', round(np.mean(sample2),1), '\\tSample2 SD: \\t', round(np.std(sample2, ddof=1),1))\n",
    "\n",
    "print('Sample1b mean: \\t', round(np.mean(sample1b),1), '\\tSample1b SD: \\t', round(np.std(sample1b, ddof=1),1))\n",
    "print('Sample2b mean: \\t', round(np.mean(sample2b),1), '\\tSample2b SD: \\t', round(np.std(sample2b, ddof=1),1))\n",
    "\n",
    "print('Sample1c mean: \\t', round(np.mean(sample1c),1), '\\tSample1b SD: \\t', round(np.std(sample1c, ddof=1),1))\n",
    "print('Sample2c mean: \\t', round(np.mean(sample2c),1), '\\tSample2b SD: \\t', round(np.std(sample2c, ddof=1),1))"
   ]
  },
  {
   "cell_type": "markdown",
   "metadata": {},
   "source": [
    "#### The changes in this run are more subtle than I had anticipated, but if I rerun the code enough times I believe we would see more variation in the smaller samples than the larger samples."
   ]
  },
  {
   "cell_type": "markdown",
   "metadata": {},
   "source": [
    "### 2. Change the probability value (p in the NumPy documentation) for pop1 to 0.3, then take new samples and compute the t-statistic and p-value. Then change the probability value p for group 1 to 0.4, and do it again. What changes, and why?"
   ]
  },
  {
   "cell_type": "markdown",
   "metadata": {},
   "source": [
    "#### My pre-coding response: The means of the histograms are close to the chance of success - i.e. a 0.2 chance of success in 10 trials repeated 10000 times produces a histogram around 2 with a tail to the right and a cut-off tail to the left at 0.  A 0.5 chance of success in 10 trials repeated 10000 times produces a histogram at roughly 5 with airly normal distribution to either side.\n",
    "\n",
    "#### Therefore changing the chance of success but not changing the number of trials or the number of repeats will simply move the histogram along the x-axis and reposition it above the new chance of success.\n",
    "\n",
    "#### re-sampling from the respective new populations and running t-statistic and p-value will yield smaller t-statistic and larger p-values as the populations creep closer together."
   ]
  },
  {
   "cell_type": "code",
   "execution_count": 7,
   "metadata": {
    "scrolled": true
   },
   "outputs": [
    {
     "data": {
      "image/png": "[encoded data removed]",
      "text/plain": [
       "<Figure size 432x288 with 1 Axes>"
      ]
     },
     "metadata": {},
     "output_type": "display_data"
    },
    {
     "name": "stdout",
     "output_type": "stream",
     "text": [
      "pop3 mean:  3.0 \tpop1 SD:  1.5\n",
      "pop2 mean:  5.0 \tpop2 SD:  1.6\n"
     ]
    },
    {
     "data": {
      "image/png": "[encoded data removed]",
      "text/plain": [
       "<Figure size 432x288 with 1 Axes>"
      ]
     },
     "metadata": {},
     "output_type": "display_data"
    },
    {
     "name": "stdout",
     "output_type": "stream",
     "text": [
      "Difference of means sample2 and sample3:  1.6\n",
      "t-statistic for sample2 and sample3:  7.9\n",
      "p-value for sample2 and sample3:  3.04E-13\n"
     ]
    }
   ],
   "source": [
    "pop3 = np.random.binomial(10, 0.3, 10000)\n",
    "pop4 = np.random.binomial(10,0.4, 10000) \n",
    "\n",
    "# Let’s make histograms for the first change. \n",
    "\n",
    "plt.hist(pop3, alpha=0.5, label='Population 3') \n",
    "plt.hist(pop2, alpha=0.5, label='Population 2') \n",
    "plt.legend(loc='upper right') \n",
    "plt.show()\n",
    "\n",
    "print('pop3 mean: ', round(np.mean(pop3),1), '\\tpop1 SD: ', round(np.std(pop3),1))\n",
    "print('pop2 mean: ', round(np.mean(pop2),1), '\\tpop2 SD: ', round(np.std(pop2),1))\n",
    "\n",
    "#new sample for new population1\n",
    "sample3 = np.random.choice(pop3, 100, replace=True)\n",
    "\n",
    "#histogram comparing new population to population 2\n",
    "plt.hist(sample3, alpha=0.5, label='Sample 3') \n",
    "plt.hist(sample2, alpha=0.5, label='Sample 2') \n",
    "plt.legend(loc='upper right') \n",
    "plt.show()\n",
    "\n",
    "# Compute the difference between the two sample means.\n",
    "diff = sample2.mean( ) - sample3.mean()\n",
    "print('Difference of means sample2 and sample3: ', round(diff,1))\n",
    "\n",
    "#t-statistic and p-value\n",
    "size = np.array([len(sample3), len(sample2)])\n",
    "sd = np.array([sample3.std(), sample2.std()])\n",
    "tstat = diff/((sum(sd ** 2 / size)) ** 0.5) \n",
    "\n",
    "stat, pval = ttest_ind(sample2, sample3, equal_var=False)\n",
    "print('t-statistic for sample2 and sample3: ', round(tstat, 1))\n",
    "print('p-value for sample2 and sample3: ', '%.2E'% Decimal(pval))"
   ]
  },
  {
   "cell_type": "code",
   "execution_count": 8,
   "metadata": {
    "scrolled": true
   },
   "outputs": [
    {
     "data": {
      "image/png": "[encoded data removed]",
      "text/plain": [
       "<Figure size 432x288 with 1 Axes>"
      ]
     },
     "metadata": {},
     "output_type": "display_data"
    },
    {
     "name": "stdout",
     "output_type": "stream",
     "text": [
      "pop3 mean:  3.0 \tpop3 SD:  1.5\n",
      "pop4 mean:  4.0 \tpop4 SD:  1.5\n"
     ]
    },
    {
     "data": {
      "image/png": "[encoded data removed]",
      "text/plain": [
       "<Figure size 432x288 with 1 Axes>"
      ]
     },
     "metadata": {},
     "output_type": "display_data"
    },
    {
     "name": "stdout",
     "output_type": "stream",
     "text": [
      "Difference of means sample4 and sample3:  1.0\n",
      "t-statistic for sample4 and sample3:  5.2\n",
      "p-value for sample4 and sample3:  6.64E-07\n"
     ]
    }
   ],
   "source": [
    "#Now look at implementing second change\n",
    "\n",
    "# Let’s make histograms for the second change. \n",
    "\n",
    "plt.hist(pop3, alpha=0.5, label='Population 3') \n",
    "plt.hist(pop4, alpha=0.5, label='Population 4') \n",
    "plt.legend(loc='upper right') \n",
    "plt.show()\n",
    "\n",
    "print('pop3 mean: ', round(np.mean(pop3),1), '\\tpop3 SD: ', round(np.std(pop3),1))\n",
    "print('pop4 mean: ', round(np.mean(pop4),1), '\\tpop4 SD: ', round(np.std(pop4),1))\n",
    "\n",
    "\n",
    "#New sample from changed population 2, now population 4\n",
    "\n",
    "sample4 = np.random.choice(pop4, 100, replace=True)\n",
    "\n",
    "#histogram comparing new population to population 3\n",
    "plt.hist(sample3, alpha=0.5, label='Sample 3') \n",
    "plt.hist(sample4, alpha=0.5, label='Sample 4') \n",
    "plt.legend(loc='upper right') \n",
    "plt.show()\n",
    "\n",
    "# Compute the difference between the two sample means.\n",
    "diff2 = sample4.mean( ) - sample3.mean()\n",
    "print('Difference of means sample4 and sample3: ', round(diff2,1))\n",
    "\n",
    "#t-statistic and p-value\n",
    "size2 = np.array([len(sample3), len(sample4)])\n",
    "sd2 = np.array([sample3.std(), sample4.std()])\n",
    "tstat2 = diff2/((sum(sd2 ** 2 / size2)) ** 0.5) \n",
    "\n",
    "stat2, pval2 = ttest_ind(sample4, sample3, equal_var=False)\n",
    "print('t-statistic for sample4 and sample3: ', round(tstat2, 1))\n",
    "print('p-value for sample4 and sample3: ', '%.2E'% Decimal(pval2))"
   ]
  },
  {
   "cell_type": "markdown",
   "metadata": {},
   "source": [
    "#### Summarize values:"
   ]
  },
  {
   "cell_type": "code",
   "execution_count": 9,
   "metadata": {
    "scrolled": true
   },
   "outputs": [
    {
     "name": "stdout",
     "output_type": "stream",
     "text": [
      "pop3 mean:  3.0 \tpop1 SD:  1.5\n",
      "pop2 mean:  5.0 \tpop2 SD:  1.6\n",
      "Difference of means sample2 and sample3:  1.6\n",
      "t-statistic for sample2 and sample3:  7.9\n",
      "p-value for sample2 and sample3:  3.04E-13\n",
      "pop3 mean:  3.0 \tpop3 SD:  1.5\n",
      "pop4 mean:  4.0 \tpop4 SD:  1.5\n",
      "Difference of means sample4 and sample3:  1.0\n",
      "t-statistic for sample4 and sample3:  5.2\n",
      "p-value for sample4 and sample3:  6.64E-07\n"
     ]
    }
   ],
   "source": [
    "print('pop3 mean: ', round(np.mean(pop3),1), '\\tpop1 SD: ', round(np.std(pop3),1))\n",
    "print('pop2 mean: ', round(np.mean(pop2),1), '\\tpop2 SD: ', round(np.std(pop2),1))\n",
    "print('Difference of means sample2 and sample3: ', round(diff,1))\n",
    "print('t-statistic for sample2 and sample3: ', round(tstat, 1))\n",
    "print('p-value for sample2 and sample3: ', '%.2E'% Decimal(pval))\n",
    "\n",
    "print('pop3 mean: ', round(np.mean(pop3),1), '\\tpop3 SD: ', round(np.std(pop3),1))\n",
    "print('pop4 mean: ', round(np.mean(pop4),1), '\\tpop4 SD: ', round(np.std(pop4),1))\n",
    "print('Difference of means sample4 and sample3: ', round(diff2,1))\n",
    "print('t-statistic for sample4 and sample3: ', round(tstat2, 1))\n",
    "print('p-value for sample4 and sample3: ', '%.2E'% Decimal(pval2))"
   ]
  },
  {
   "cell_type": "markdown",
   "metadata": {},
   "source": [
    "#### My predictions are confirmed, as the population means got closer together the t-statistic decreased and the p-value increased."
   ]
  },
  {
   "cell_type": "markdown",
   "metadata": {},
   "source": [
    "### 3. Change the distribution of your populations from binomial to a distribution of your choice. Do the sample mean values still accurately represent the population values?"
   ]
  },
  {
   "cell_type": "markdown",
   "metadata": {},
   "source": [
    "#### My pre-coding response:    I wil choose a Gamma distribution, which is duration of event until it expires.  Gamma distributions generally resemble normal distributions with few expirations with short durations, a lot of expirations in the middle range of duration and fewer at the long end of duration.  Though there may be some skew present, Gamma distributions in t-statistics and p-values should behave very similarly to binar distribution."
   ]
  },
  {
   "cell_type": "code",
   "execution_count": 29,
   "metadata": {},
   "outputs": [],
   "source": [
    "#create gamma populations\n",
    "gam1 = np.random.gamma(10, 2, 10000)\n",
    "gam2 = np.random.gamma (10, 5, 10000) "
   ]
  },
  {
   "cell_type": "code",
   "execution_count": 30,
   "metadata": {},
   "outputs": [
    {
     "data": {
      "image/png": "[encoded data removed]",
      "text/plain": [
       "<Figure size 432x288 with 1 Axes>"
      ]
     },
     "metadata": {},
     "output_type": "display_data"
    }
   ],
   "source": [
    "#plot histogram of gamma populations\n",
    "plt.hist(gam1, alpha=0.5, label='Gamma 1') \n",
    "plt.hist(gam2, alpha=0.5, label='Gamma 2') \n",
    "plt.legend(loc='upper right') \n",
    "plt.show()"
   ]
  },
  {
   "cell_type": "code",
   "execution_count": 31,
   "metadata": {},
   "outputs": [],
   "source": [
    "#take samples from each population\n",
    "gSample1 = np.random.choice(gam1, 100, replace=True)\n",
    "gSample2 = np.random.choice(gam2, 100, replace=True)"
   ]
  },
  {
   "cell_type": "code",
   "execution_count": 32,
   "metadata": {},
   "outputs": [
    {
     "data": {
      "image/png": "[encoded data removed]",
      "text/plain": [
       "<Figure size 432x288 with 1 Axes>"
      ]
     },
     "metadata": {},
     "output_type": "display_data"
    }
   ],
   "source": [
    "#plt histogram of the two gamma samples\n",
    "plt.hist(gSample1, alpha=0.5, label='gSample 1') \n",
    "plt.hist(gSample2, alpha=0.5, label='gSample 2') \n",
    "plt.legend(loc='upper right') \n",
    "plt.show()"
   ]
  },
  {
   "cell_type": "code",
   "execution_count": 33,
   "metadata": {},
   "outputs": [
    {
     "name": "stdout",
     "output_type": "stream",
     "text": [
      "Gamma1 mean:  20.0 \tgam1 SD:  6.3\n",
      "Gamma2 mean:  50.2 \tgam2 SD:  16.0\n",
      "Difference of means gSample2 and gSample1:  29.9\n",
      "t-statistic for gSample2 and gSample1:  19.0\n",
      "p-value for gSample2 and gSample1:  1.99E-39\n"
     ]
    }
   ],
   "source": [
    "#print population means and standard deviations for reference\n",
    "print('Gamma1 mean: ', round(np.mean(gam1),1), '\\tgam1 SD: ', round(np.std(gam1),1))\n",
    "print('Gamma2 mean: ', round(np.mean(gam2),1), '\\tgam2 SD: ', round(np.std(gam2),1))\n",
    "\n",
    "# Compute the difference between the two sample means.\n",
    "diffG = gSample2.mean( ) - gSample1.mean()\n",
    "print('Difference of means gSample2 and gSample1: ', round(diffG,1))\n",
    "\n",
    "#t-statistic and p-value\n",
    "sizeG = np.array([len(gSample1), len(gSample2)])\n",
    "sdG = np.array([gSample1.std(), gSample2.std()])\n",
    "tstatG = diffG/((sum(sdG ** 2 / sizeG)) ** 0.5) \n",
    "\n",
    "statG, pvalG = ttest_ind(gSample2, gSample1, equal_var=False)\n",
    "print('t-statistic for gSample2 and gSample1: ', round(tstatG, 1))\n",
    "print('p-value for gSample2 and gSample1: ', '%.2E'% Decimal(pvalG))"
   ]
  },
  {
   "cell_type": "markdown",
   "metadata": {},
   "source": [
    "#### If I now change the distribution so that the means are closer the same trend in t-statistic and p-value will occur"
   ]
  },
  {
   "cell_type": "code",
   "execution_count": 34,
   "metadata": {},
   "outputs": [],
   "source": [
    "#change gamma populations\n",
    "gam3 = np.random.gamma(10, 3, 10000)\n",
    "gam4 = np.random.gamma (10, 4, 10000) "
   ]
  },
  {
   "cell_type": "code",
   "execution_count": 35,
   "metadata": {},
   "outputs": [
    {
     "data": {
      "image/png": "[encoded data removed]",
      "text/plain": [
       "<Figure size 432x288 with 1 Axes>"
      ]
     },
     "metadata": {},
     "output_type": "display_data"
    }
   ],
   "source": [
    "#plot histogram of new gamma populations\n",
    "plt.hist(gam3, alpha=0.5, label='Gamma 3') \n",
    "plt.hist(gam4, alpha=0.5, label='Gamma 4') \n",
    "plt.legend(loc='upper right') \n",
    "plt.show()"
   ]
  },
  {
   "cell_type": "code",
   "execution_count": 36,
   "metadata": {},
   "outputs": [],
   "source": [
    "#take samples from each new population\n",
    "gSample3 = np.random.choice(gam3, 100, replace=True)\n",
    "gSample4 = np.random.choice(gam4, 100, replace=True)"
   ]
  },
  {
   "cell_type": "code",
   "execution_count": 37,
   "metadata": {},
   "outputs": [
    {
     "data": {
      "image/png": "[encoded data removed]",
      "text/plain": [
       "<Figure size 432x288 with 1 Axes>"
      ]
     },
     "metadata": {},
     "output_type": "display_data"
    }
   ],
   "source": [
    "#plt histogram of the two new gamma samples\n",
    "plt.hist(gSample3, alpha=0.5, label='gSample 3') \n",
    "plt.hist(gSample4, alpha=0.5, label='gSample 4') \n",
    "plt.legend(loc='upper right') \n",
    "plt.show()"
   ]
  },
  {
   "cell_type": "code",
   "execution_count": 40,
   "metadata": {},
   "outputs": [
    {
     "name": "stdout",
     "output_type": "stream",
     "text": [
      "Gamma3 mean:  30.2 \tgam1 SD:  9.5\n",
      "Gamma4 mean:  40.1 \tgam2 SD:  12.7\n",
      "Difference of means gSample4 and gSample3:  8.0\n",
      "t-statistic for gSample2 and gSample1:  4.9\n",
      "p-value for gSample2 and gSample1:  2.69E-06\n"
     ]
    }
   ],
   "source": [
    "#print population means and standard deviations for reference\n",
    "print('Gamma3 mean: ', round(np.mean(gam3),1), '\\tgam1 SD: ', round(np.std(gam3),1))\n",
    "print('Gamma4 mean: ', round(np.mean(gam4),1), '\\tgam2 SD: ', round(np.std(gam4),1))\n",
    "\n",
    "# Compute the difference between the two sample means.\n",
    "diffG2 = gSample4.mean( ) - gSample3.mean()\n",
    "print('Difference of means gSample4 and gSample3: ', round(diffG2,1))\n",
    "\n",
    "#t-statistic and p-value\n",
    "sizeG2 = np.array([len(gSample3), len(gSample4)])\n",
    "sdG2 = np.array([gSample3.std(), gSample4.std()])\n",
    "tstatG2 = diffG2/((sum(sdG2 ** 2 / sizeG2)) ** 0.5) \n",
    "\n",
    "statG2, pvalG2 = ttest_ind(gSample3, gSample4, equal_var=False)\n",
    "print('t-statistic for gSample2 and gSample1: ', round(tstatG2, 1))\n",
    "print('p-value for gSample2 and gSample1: ', '%.2E'% Decimal(pvalG2))"
   ]
  },
  {
   "cell_type": "code",
   "execution_count": 41,
   "metadata": {},
   "outputs": [
    {
     "name": "stdout",
     "output_type": "stream",
     "text": [
      "gam1 mean:  20.0 \tgam1 SD:  6.3\n",
      "gam2 mean:  50.2 \tgam2 SD:  16.0\n",
      "Difference of means gSample2 and gSample1:  29.9\n",
      "t-statistic for gSample2 and gSample1:  19.0\n",
      "p-value for gSample2 and gSample1:  1.99E-39\n",
      "gam3 mean:  30.2 \tgam3 SD:  9.5\n",
      "gam4 mean:  40.1 \tgam4 SD:  12.7\n",
      "Difference of means gSample4 and gSample3:  8.0\n",
      "t-statistic for gSample4 and gSample3:  4.9\n",
      "p-value for gSample4 and gSample3:  2.69E-06\n"
     ]
    }
   ],
   "source": [
    "#reprint all values for easy comparison\n",
    "print('gam1 mean: ', round(np.mean(gam1),1), '\\tgam1 SD: ', round(np.std(gam1),1))\n",
    "print('gam2 mean: ', round(np.mean(gam2),1), '\\tgam2 SD: ', round(np.std(gam2),1))\n",
    "print('Difference of means gSample2 and gSample1: ', round(diffG,1))\n",
    "print('t-statistic for gSample2 and gSample1: ', round(tstatG, 1))\n",
    "print('p-value for gSample2 and gSample1: ', '%.2E'% Decimal(pvalG))\n",
    "\n",
    "print('gam3 mean: ', round(np.mean(gam3),1), '\\tgam3 SD: ', round(np.std(gam3),1))\n",
    "print('gam4 mean: ', round(np.mean(gam4),1), '\\tgam4 SD: ', round(np.std(gam4),1))\n",
    "print('Difference of means gSample4 and gSample3: ', round(diffG2,1))\n",
    "print('t-statistic for gSample4 and gSample3: ', round(tstatG2, 1))\n",
    "print('p-value for gSample4 and gSample3: ', '%.2E'% Decimal(pvalG2))"
   ]
  },
  {
   "cell_type": "markdown",
   "metadata": {},
   "source": [
    "#### As the difference between the two means of the samples decreased, the t-statistic decreased and the p-value increased."
   ]
  },
  {
   "cell_type": "code",
   "execution_count": null,
   "metadata": {},
   "outputs": [],
   "source": []
  }
 ],
 "metadata": {
  "kernelspec": {
   "display_name": "Python 3",
   "language": "python",
   "name": "python3"
  },
  "language_info": {
   "codemirror_mode": {
    "name": "ipython",
    "version": 3
   },
   "file_extension": ".py",
   "mimetype": "text/x-python",
   "name": "python",
   "nbconvert_exporter": "python",
   "pygments_lexer": "ipython3",
   "version": "3.6.5"
  }
 },
 "nbformat": 4,
 "nbformat_minor": 2
}
